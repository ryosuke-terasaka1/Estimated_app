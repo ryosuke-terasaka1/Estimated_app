{
 "cells": [
  {
   "cell_type": "code",
   "execution_count": 1,
   "id": "d740f1f9",
   "metadata": {},
   "outputs": [
    {
     "name": "stdout",
     "output_type": "stream",
     "text": [
      "97\n",
      "a\n"
     ]
    }
   ],
   "source": [
    "n = int(input())\n",
    "print(chr(n))"
   ]
  },
  {
   "cell_type": "code",
   "execution_count": 3,
   "id": "7df9a567",
   "metadata": {},
   "outputs": [
    {
     "name": "stdout",
     "output_type": "stream",
     "text": [
      "5 3\n",
      "6 8 10 4 10\n",
      "2 3 4\n",
      "Yes\n"
     ]
    }
   ],
   "source": [
    "n, k = map(int, input().split())\n",
    "a = list(map(int, input().split()))\n",
    "b = list(map(int, input().split()))\n",
    "\n",
    "max_num = max(a)\n",
    "is_hate_dish = False\n",
    "\n",
    "for num in b:\n",
    "    if a[num-1] == max_num:\n",
    "        is_hate_dish = True\n",
    "\n",
    "if is_hate_dish: print('Yes')\n",
    "else: print('No')\n"
   ]
  },
  {
   "cell_type": "code",
   "execution_count": 13,
   "id": "1370fb19",
   "metadata": {},
   "outputs": [
    {
     "name": "stdout",
     "output_type": "stream",
     "text": [
      "5\n"
     ]
    }
   ],
   "source": [
    "a  = [1,2,3,4,5]\n",
    "print(a[-1])"
   ]
  },
  {
   "cell_type": "code",
   "execution_count": 12,
   "id": "ecda8aa6",
   "metadata": {},
   "outputs": [
    {
     "name": "stdout",
     "output_type": "stream",
     "text": [
      "3\n",
      "1937458062\n",
      "8124690357\n",
      "2385760149\n",
      "[7, 6, 6]\n",
      "[0, 1, 7]\n",
      "[9, 2, 0]\n",
      "[2, 7, 1]\n",
      "[4, 3, 8]\n",
      "[5, 8, 3]\n",
      "[8, 4, 5]\n",
      "[3, 9, 4]\n",
      "[6, 0, 2]\n",
      "[1, 5, 9]\n",
      "6\n"
     ]
    }
   ],
   "source": [
    "n = int(input())\n",
    "\n",
    "s = [input() for _ in range(n)]\n",
    "\n",
    "ans = 1000000\n",
    "\n",
    "for i in range(10):\n",
    "    r = []\n",
    "    r_sum = 0\n",
    "    is_double = False\n",
    "    double_line = {}\n",
    "    for line in s:\n",
    "        i_num = line.find(str(i))\n",
    "        if i_num in r:\n",
    "            is_double = True\n",
    "            if i_num in double_line:\n",
    "                double_line[i_num] += 1\n",
    "            else: double_line[i_num] = 1\n",
    "        r.append(i_num)\n",
    "    if is_double:\n",
    "        max_k_list = [kv[0] for kv in double_line.items() if kv[1] == max(double_line.values())]\n",
    "        max_k, max_v = max(double_line.items(), key=lambda x: x[1])\n",
    "        r_sum += max_k_list[-1]\n",
    "        r_sum += max_v * 10\n",
    "    else:\n",
    "        r_sum += max(r)\n",
    "    if ans > r_sum:\n",
    "        ans = r_sum\n",
    "\n",
    "print(ans)\n"
   ]
  }
 ],
 "metadata": {
  "kernelspec": {
   "display_name": "Python 3 (ipykernel)",
   "language": "python",
   "name": "python3"
  },
  "language_info": {
   "codemirror_mode": {
    "name": "ipython",
    "version": 3
   },
   "file_extension": ".py",
   "mimetype": "text/x-python",
   "name": "python",
   "nbconvert_exporter": "python",
   "pygments_lexer": "ipython3",
   "version": "3.9.13"
  }
 },
 "nbformat": 4,
 "nbformat_minor": 5
}
