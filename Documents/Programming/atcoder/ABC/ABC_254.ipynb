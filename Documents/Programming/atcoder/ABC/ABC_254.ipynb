{
 "cells": [
  {
   "cell_type": "code",
   "execution_count": 1,
   "id": "c81d9775",
   "metadata": {},
   "outputs": [
    {
     "name": "stdout",
     "output_type": "stream",
     "text": [
      "123\n",
      "23\n"
     ]
    }
   ],
   "source": [
    "n = input()\n",
    "print(n[1:])"
   ]
  },
  {
   "cell_type": "code",
   "execution_count": 15,
   "id": "820d052a",
   "metadata": {},
   "outputs": [
    {
     "name": "stdout",
     "output_type": "stream",
     "text": [
      "10\n",
      "1\n",
      "1 1\n",
      "1 2 1\n",
      "1 3 3 1\n",
      "1 4 6 4 1\n",
      "1 5 10 10 5 1\n",
      "1 6 15 20 15 6 1\n",
      "1 7 21 35 35 21 7 1\n",
      "1 8 28 56 70 56 28 8 1\n",
      "1 9 36 84 126 126 84 36 9 1\n"
     ]
    }
   ],
   "source": [
    "n = int(input())\n",
    "a = []\n",
    "for i in range(n):\n",
    "    s = [0 for _ in range(i+1)]\n",
    "#     print(s)\n",
    "    s[0] = 1\n",
    "    s[i] = 1\n",
    "    a.append(s)\n",
    "\n",
    "for i in range(2, n):\n",
    "    for j in range(1, i):\n",
    "        a[i][j] = a[i-1][j-1] + a[i-1][j]\n",
    "\n",
    "for ans in a:\n",
    "    print(*ans)\n"
   ]
  },
  {
   "cell_type": "code",
   "execution_count": 53,
   "id": "a4ff2668",
   "metadata": {},
   "outputs": [
    {
     "name": "stdout",
     "output_type": "stream",
     "text": [
      "3 2\n",
      "1000000000 999999999 999999998\n",
      "Yes\n"
     ]
    }
   ],
   "source": [
    "n, k = map(int, input().split())\n",
    "a = list(map(int, input().split()))\n",
    "\n",
    "def _is_sort(a_list: list) -> bool:\n",
    "    is_sort = True\n",
    "    for i in range(len(a_list)-1):\n",
    "        if a_list[i] > a_list[i+1]:\n",
    "            is_sort = False\n",
    "            break\n",
    "    return is_sort\n",
    "\n",
    "for _ in range(n // k - 1):\n",
    "    for i in range(n-k):\n",
    "        if a[i] > a[i+k]:\n",
    "            a[i], a[i+k] = a[i+k], a[i]\n",
    "\n",
    "is_sort = _is_sort(a)\n",
    "\n",
    "if is_sort:\n",
    "    print('Yes')\n",
    "\n",
    "else:\n",
    "    print('No')\n"
   ]
  },
  {
   "cell_type": "code",
   "execution_count": 27,
   "id": "7e526516",
   "metadata": {},
   "outputs": [
    {
     "name": "stdout",
     "output_type": "stream",
     "text": [
      "254\n",
      "896\n"
     ]
    }
   ],
   "source": [
    "n = int(input())\n",
    "result = n\n",
    "for i in range(1, n+1):\n",
    "    for j in range(i+1, n+1):\n",
    "        if ((i*j)**0.5).is_integer():\n",
    "            result += 2\n",
    "print(result)"
   ]
  },
  {
   "cell_type": "code",
   "execution_count": 46,
   "id": "7933b6fa",
   "metadata": {},
   "outputs": [
    {
     "name": "stdout",
     "output_type": "stream",
     "text": [
      "2\n"
     ]
    }
   ],
   "source": [
    "def count_divisors(n):\n",
    "    ans = 0\n",
    "    i = 1\n",
    "    while i*i < n:\n",
    "        if n % i == 0:\n",
    "            ans += 2\n",
    "        i += 1\n",
    "    return ans\n",
    "\n",
    "print(count_divisors(4))"
   ]
  },
  {
   "cell_type": "code",
   "execution_count": 45,
   "id": "fd3f8ccd",
   "metadata": {},
   "outputs": [
    {
     "name": "stdout",
     "output_type": "stream",
     "text": [
      "254\n",
      "508\n"
     ]
    }
   ],
   "source": [
    "def count_divisors(n):\n",
    "    ans = 0\n",
    "    i = 1\n",
    "    while i*i < n:\n",
    "        if n % i == 0:\n",
    "            ans += 2\n",
    "        i += 1\n",
    "    return ans\n",
    "\n",
    "\n",
    "n = int(input())\n",
    "result = 1\n",
    "heihou_num = 0\n",
    "\n",
    "for num in range(2, n+1):\n",
    "    if (num**0.5).is_integer():\n",
    "        heihou_num += 1\n",
    "        result += count_divisors(num)+1\n",
    "    else:\n",
    "        result += 1\n",
    "            \n",
    "result += sum(range(heihou_num)) * 2\n",
    "\n",
    "print(result)"
   ]
  }
 ],
 "metadata": {
  "kernelspec": {
   "display_name": "Python 3 (ipykernel)",
   "language": "python",
   "name": "python3"
  },
  "language_info": {
   "codemirror_mode": {
    "name": "ipython",
    "version": 3
   },
   "file_extension": ".py",
   "mimetype": "text/x-python",
   "name": "python",
   "nbconvert_exporter": "python",
   "pygments_lexer": "ipython3",
   "version": "3.9.13"
  }
 },
 "nbformat": 4,
 "nbformat_minor": 5
}
